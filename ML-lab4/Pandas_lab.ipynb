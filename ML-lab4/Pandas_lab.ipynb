{
 "cells": [
  {
   "cell_type": "markdown",
   "id": "careful-recognition",
   "metadata": {},
   "source": [
    "#  Лабораторна робота \"Обробка табличних даних засобами бібліотеки Pandas\"\n",
    "\n",
    "__Метою__ лабораторної роботи є вивчення технологій первинного аналізу даних в середовищі бібліотеки Pandas, а саме здобуття навичок:\n",
    "- працювати з даними використовуючи мову Python та пакет Pandas\n",
    "- робити передобробку даних\n",
    "- знаходити прості закономірності у даних"
   ]
  },
  {
   "cell_type": "code",
   "execution_count": 1,
   "id": "previous-wrong",
   "metadata": {},
   "outputs": [],
   "source": [
    "# підключити бібліотеки Pandas та NumPy\n",
    "import pandas as pd\n",
    "import numpy as np"
   ]
  },
  {
   "cell_type": "markdown",
   "id": "found-proposition",
   "metadata": {
    "heading_collapsed": true
   },
   "source": [
    "## 1. Створення  DataFrame\n",
    "\n",
    "__DataFrame__ — це двовимірна неоднорідна таблична структура даних із змінюваними розмірами з іменованими вісями (рядками та стовпцями)"
   ]
  },
  {
   "cell_type": "markdown",
   "id": "martial-bristol",
   "metadata": {
    "heading_collapsed": true,
    "hidden": true
   },
   "source": [
    "### ПРИКЛАДИ"
   ]
  },
  {
   "cell_type": "code",
   "execution_count": 2,
   "id": "interesting-mixer",
   "metadata": {
    "hidden": true
   },
   "outputs": [
    {
     "name": "stdout",
     "output_type": "stream",
     "text": [
      "        0\n",
      "0    Петя\n",
      "1    Вася\n",
      "2  Микола\n",
      "<class 'pandas.core.frame.DataFrame'>\n"
     ]
    }
   ],
   "source": [
    "# створити DataFrame з 1 колонкою з python-списка\n",
    "df = pd.DataFrame([\"Петя\", \"Вася\", \"Микола\"])\n",
    "print(df)\n",
    "print(type(df))"
   ]
  },
  {
   "cell_type": "code",
   "execution_count": 3,
   "id": "exact-organic",
   "metadata": {
    "hidden": true
   },
   "outputs": [
    {
     "name": "stdout",
     "output_type": "stream",
     "text": [
      "[[360 155 309 331 289 320 206 443 110 188]\n",
      " [359 172 259 223 488 336 178 448 412 109]\n",
      " [101 127 240 172 299 104 104 290 315 425]\n",
      " [119 165 405 372 185 100 185 452 413 166]\n",
      " [302 319 492 127 377 117 270 478 125 291]\n",
      " [469 323 369 255 104 121 113 488 435 445]\n",
      " [349 349 126 455 426 309 116 422 143 444]\n",
      " [336 445 100 219 286 155 328 311 197 298]\n",
      " [434 358 435 477 201 323 103 400 449 249]\n",
      " [265 326 336 425 216 103 129 217 499 158]]\n"
     ]
    },
    {
     "data": {
      "text/html": [
       "<div>\n",
       "<style scoped>\n",
       "    .dataframe tbody tr th:only-of-type {\n",
       "        vertical-align: middle;\n",
       "    }\n",
       "\n",
       "    .dataframe tbody tr th {\n",
       "        vertical-align: top;\n",
       "    }\n",
       "\n",
       "    .dataframe thead th {\n",
       "        text-align: right;\n",
       "    }\n",
       "</style>\n",
       "<table border=\"1\" class=\"dataframe\">\n",
       "  <thead>\n",
       "    <tr style=\"text-align: right;\">\n",
       "      <th></th>\n",
       "      <th>0</th>\n",
       "      <th>1</th>\n",
       "      <th>2</th>\n",
       "      <th>3</th>\n",
       "      <th>4</th>\n",
       "      <th>5</th>\n",
       "      <th>6</th>\n",
       "      <th>7</th>\n",
       "      <th>8</th>\n",
       "      <th>9</th>\n",
       "    </tr>\n",
       "  </thead>\n",
       "  <tbody>\n",
       "    <tr>\n",
       "      <th>0</th>\n",
       "      <td>360</td>\n",
       "      <td>155</td>\n",
       "      <td>309</td>\n",
       "      <td>331</td>\n",
       "      <td>289</td>\n",
       "      <td>320</td>\n",
       "      <td>206</td>\n",
       "      <td>443</td>\n",
       "      <td>110</td>\n",
       "      <td>188</td>\n",
       "    </tr>\n",
       "    <tr>\n",
       "      <th>1</th>\n",
       "      <td>359</td>\n",
       "      <td>172</td>\n",
       "      <td>259</td>\n",
       "      <td>223</td>\n",
       "      <td>488</td>\n",
       "      <td>336</td>\n",
       "      <td>178</td>\n",
       "      <td>448</td>\n",
       "      <td>412</td>\n",
       "      <td>109</td>\n",
       "    </tr>\n",
       "    <tr>\n",
       "      <th>2</th>\n",
       "      <td>101</td>\n",
       "      <td>127</td>\n",
       "      <td>240</td>\n",
       "      <td>172</td>\n",
       "      <td>299</td>\n",
       "      <td>104</td>\n",
       "      <td>104</td>\n",
       "      <td>290</td>\n",
       "      <td>315</td>\n",
       "      <td>425</td>\n",
       "    </tr>\n",
       "    <tr>\n",
       "      <th>3</th>\n",
       "      <td>119</td>\n",
       "      <td>165</td>\n",
       "      <td>405</td>\n",
       "      <td>372</td>\n",
       "      <td>185</td>\n",
       "      <td>100</td>\n",
       "      <td>185</td>\n",
       "      <td>452</td>\n",
       "      <td>413</td>\n",
       "      <td>166</td>\n",
       "    </tr>\n",
       "    <tr>\n",
       "      <th>4</th>\n",
       "      <td>302</td>\n",
       "      <td>319</td>\n",
       "      <td>492</td>\n",
       "      <td>127</td>\n",
       "      <td>377</td>\n",
       "      <td>117</td>\n",
       "      <td>270</td>\n",
       "      <td>478</td>\n",
       "      <td>125</td>\n",
       "      <td>291</td>\n",
       "    </tr>\n",
       "    <tr>\n",
       "      <th>5</th>\n",
       "      <td>469</td>\n",
       "      <td>323</td>\n",
       "      <td>369</td>\n",
       "      <td>255</td>\n",
       "      <td>104</td>\n",
       "      <td>121</td>\n",
       "      <td>113</td>\n",
       "      <td>488</td>\n",
       "      <td>435</td>\n",
       "      <td>445</td>\n",
       "    </tr>\n",
       "    <tr>\n",
       "      <th>6</th>\n",
       "      <td>349</td>\n",
       "      <td>349</td>\n",
       "      <td>126</td>\n",
       "      <td>455</td>\n",
       "      <td>426</td>\n",
       "      <td>309</td>\n",
       "      <td>116</td>\n",
       "      <td>422</td>\n",
       "      <td>143</td>\n",
       "      <td>444</td>\n",
       "    </tr>\n",
       "    <tr>\n",
       "      <th>7</th>\n",
       "      <td>336</td>\n",
       "      <td>445</td>\n",
       "      <td>100</td>\n",
       "      <td>219</td>\n",
       "      <td>286</td>\n",
       "      <td>155</td>\n",
       "      <td>328</td>\n",
       "      <td>311</td>\n",
       "      <td>197</td>\n",
       "      <td>298</td>\n",
       "    </tr>\n",
       "    <tr>\n",
       "      <th>8</th>\n",
       "      <td>434</td>\n",
       "      <td>358</td>\n",
       "      <td>435</td>\n",
       "      <td>477</td>\n",
       "      <td>201</td>\n",
       "      <td>323</td>\n",
       "      <td>103</td>\n",
       "      <td>400</td>\n",
       "      <td>449</td>\n",
       "      <td>249</td>\n",
       "    </tr>\n",
       "    <tr>\n",
       "      <th>9</th>\n",
       "      <td>265</td>\n",
       "      <td>326</td>\n",
       "      <td>336</td>\n",
       "      <td>425</td>\n",
       "      <td>216</td>\n",
       "      <td>103</td>\n",
       "      <td>129</td>\n",
       "      <td>217</td>\n",
       "      <td>499</td>\n",
       "      <td>158</td>\n",
       "    </tr>\n",
       "  </tbody>\n",
       "</table>\n",
       "</div>"
      ],
      "text/plain": [
       "     0    1    2    3    4    5    6    7    8    9\n",
       "0  360  155  309  331  289  320  206  443  110  188\n",
       "1  359  172  259  223  488  336  178  448  412  109\n",
       "2  101  127  240  172  299  104  104  290  315  425\n",
       "3  119  165  405  372  185  100  185  452  413  166\n",
       "4  302  319  492  127  377  117  270  478  125  291\n",
       "5  469  323  369  255  104  121  113  488  435  445\n",
       "6  349  349  126  455  426  309  116  422  143  444\n",
       "7  336  445  100  219  286  155  328  311  197  298\n",
       "8  434  358  435  477  201  323  103  400  449  249\n",
       "9  265  326  336  425  216  103  129  217  499  158"
      ]
     },
     "execution_count": 3,
     "metadata": {},
     "output_type": "execute_result"
    }
   ],
   "source": [
    "# створити DataFrame з np-матриці розміром 10х10 випадкових чисел\n",
    "mat = np.random.randint(100, 500, (10,10), dtype=\"int16\")\n",
    "print(mat)\n",
    "df = pd.DataFrame(mat)\n",
    "df"
   ]
  },
  {
   "cell_type": "code",
   "execution_count": 4,
   "id": "satellite-pension",
   "metadata": {
    "hidden": true
   },
   "outputs": [
    {
     "name": "stdout",
     "output_type": "stream",
     "text": [
      "[[0.44086241 0.71902519 0.84331813]\n",
      " [0.24066408 0.38020941 0.65970643]\n",
      " [0.75970202 0.66701389 0.83655007]\n",
      " [0.04524041 0.20205706 0.18106538]\n",
      " [0.69651373 0.22020007 0.09390114]]\n"
     ]
    },
    {
     "data": {
      "text/html": [
       "<div>\n",
       "<style scoped>\n",
       "    .dataframe tbody tr th:only-of-type {\n",
       "        vertical-align: middle;\n",
       "    }\n",
       "\n",
       "    .dataframe tbody tr th {\n",
       "        vertical-align: top;\n",
       "    }\n",
       "\n",
       "    .dataframe thead th {\n",
       "        text-align: right;\n",
       "    }\n",
       "</style>\n",
       "<table border=\"1\" class=\"dataframe\">\n",
       "  <thead>\n",
       "    <tr style=\"text-align: right;\">\n",
       "      <th></th>\n",
       "      <th>колонка 1</th>\n",
       "      <th>колонка 2</th>\n",
       "      <th>колонка 3</th>\n",
       "    </tr>\n",
       "  </thead>\n",
       "  <tbody>\n",
       "    <tr>\n",
       "      <th>0</th>\n",
       "      <td>0.440862</td>\n",
       "      <td>0.719025</td>\n",
       "      <td>0.843318</td>\n",
       "    </tr>\n",
       "    <tr>\n",
       "      <th>1</th>\n",
       "      <td>0.240664</td>\n",
       "      <td>0.380209</td>\n",
       "      <td>0.659706</td>\n",
       "    </tr>\n",
       "    <tr>\n",
       "      <th>2</th>\n",
       "      <td>0.759702</td>\n",
       "      <td>0.667014</td>\n",
       "      <td>0.836550</td>\n",
       "    </tr>\n",
       "    <tr>\n",
       "      <th>3</th>\n",
       "      <td>0.045240</td>\n",
       "      <td>0.202057</td>\n",
       "      <td>0.181065</td>\n",
       "    </tr>\n",
       "    <tr>\n",
       "      <th>4</th>\n",
       "      <td>0.696514</td>\n",
       "      <td>0.220200</td>\n",
       "      <td>0.093901</td>\n",
       "    </tr>\n",
       "  </tbody>\n",
       "</table>\n",
       "</div>"
      ],
      "text/plain": [
       "   колонка 1  колонка 2  колонка 3\n",
       "0   0.440862   0.719025   0.843318\n",
       "1   0.240664   0.380209   0.659706\n",
       "2   0.759702   0.667014   0.836550\n",
       "3   0.045240   0.202057   0.181065\n",
       "4   0.696514   0.220200   0.093901"
      ]
     },
     "execution_count": 4,
     "metadata": {},
     "output_type": "execute_result"
    }
   ],
   "source": [
    "# створити DataFrame з 2-мірного випадкового масиву з іменованими колонками\n",
    "arr = np.random.random((5,3))\n",
    "print(arr)\n",
    "df = pd.DataFrame(arr, columns=[\"колонка 1\", \"колонка 2\", \"колонка 3\"])\n",
    "df"
   ]
  },
  {
   "cell_type": "code",
   "execution_count": 5,
   "id": "interpreted-swedish",
   "metadata": {
    "hidden": true
   },
   "outputs": [
    {
     "data": {
      "text/html": [
       "<div>\n",
       "<style scoped>\n",
       "    .dataframe tbody tr th:only-of-type {\n",
       "        vertical-align: middle;\n",
       "    }\n",
       "\n",
       "    .dataframe tbody tr th {\n",
       "        vertical-align: top;\n",
       "    }\n",
       "\n",
       "    .dataframe thead th {\n",
       "        text-align: right;\n",
       "    }\n",
       "</style>\n",
       "<table border=\"1\" class=\"dataframe\">\n",
       "  <thead>\n",
       "    <tr style=\"text-align: right;\">\n",
       "      <th></th>\n",
       "      <th>Петя</th>\n",
       "      <th>Вася</th>\n",
       "      <th>Микола</th>\n",
       "    </tr>\n",
       "  </thead>\n",
       "  <tbody>\n",
       "    <tr>\n",
       "      <th>10</th>\n",
       "      <td>0.022375</td>\n",
       "      <td>0.571003</td>\n",
       "      <td>0.168394</td>\n",
       "    </tr>\n",
       "    <tr>\n",
       "      <th>20</th>\n",
       "      <td>0.121832</td>\n",
       "      <td>0.808490</td>\n",
       "      <td>0.150778</td>\n",
       "    </tr>\n",
       "    <tr>\n",
       "      <th>30</th>\n",
       "      <td>0.347810</td>\n",
       "      <td>0.149034</td>\n",
       "      <td>0.173582</td>\n",
       "    </tr>\n",
       "    <tr>\n",
       "      <th>40</th>\n",
       "      <td>0.195668</td>\n",
       "      <td>0.691011</td>\n",
       "      <td>0.935191</td>\n",
       "    </tr>\n",
       "    <tr>\n",
       "      <th>50</th>\n",
       "      <td>0.562197</td>\n",
       "      <td>0.888972</td>\n",
       "      <td>0.223368</td>\n",
       "    </tr>\n",
       "  </tbody>\n",
       "</table>\n",
       "</div>"
      ],
      "text/plain": [
       "        Петя      Вася    Микола\n",
       "10  0.022375  0.571003  0.168394\n",
       "20  0.121832  0.808490  0.150778\n",
       "30  0.347810  0.149034  0.173582\n",
       "40  0.195668  0.691011  0.935191\n",
       "50  0.562197  0.888972  0.223368"
      ]
     },
     "execution_count": 5,
     "metadata": {},
     "output_type": "execute_result"
    }
   ],
   "source": [
    "# створити DataFrame з python-словника в якому ключ - це ім'я, а значення - \n",
    "# це масив з 5-ти випадкових чисел з модифікованими індексами рядків\n",
    "d = {\"Петя\": np.random.random(5),\n",
    "    \"Вася\" : np.random.random(5),\n",
    "    \"Микола\":np.random.random(5)\n",
    "    }\n",
    "pd.DataFrame(d, index=[10,20,30,40,50])"
   ]
  },
  {
   "cell_type": "code",
   "execution_count": 6,
   "id": "fallen-amber",
   "metadata": {
    "hidden": true
   },
   "outputs": [
    {
     "name": "stdout",
     "output_type": "stream",
     "text": [
      "[('Вася', 2001), ('Петя', 2000), ('Микола', 2003)]\n"
     ]
    },
    {
     "data": {
      "text/html": [
       "<div>\n",
       "<style scoped>\n",
       "    .dataframe tbody tr th:only-of-type {\n",
       "        vertical-align: middle;\n",
       "    }\n",
       "\n",
       "    .dataframe tbody tr th {\n",
       "        vertical-align: top;\n",
       "    }\n",
       "\n",
       "    .dataframe thead th {\n",
       "        text-align: right;\n",
       "    }\n",
       "</style>\n",
       "<table border=\"1\" class=\"dataframe\">\n",
       "  <thead>\n",
       "    <tr style=\"text-align: right;\">\n",
       "      <th></th>\n",
       "      <th>Ім'я</th>\n",
       "      <th>Рік народження</th>\n",
       "    </tr>\n",
       "  </thead>\n",
       "  <tbody>\n",
       "    <tr>\n",
       "      <th>0</th>\n",
       "      <td>Вася</td>\n",
       "      <td>2001</td>\n",
       "    </tr>\n",
       "    <tr>\n",
       "      <th>1</th>\n",
       "      <td>Петя</td>\n",
       "      <td>2000</td>\n",
       "    </tr>\n",
       "    <tr>\n",
       "      <th>2</th>\n",
       "      <td>Микола</td>\n",
       "      <td>2003</td>\n",
       "    </tr>\n",
       "  </tbody>\n",
       "</table>\n",
       "</div>"
      ],
      "text/plain": [
       "     Ім'я  Рік народження\n",
       "0    Вася            2001\n",
       "1    Петя            2000\n",
       "2  Микола            2003"
      ]
     },
     "execution_count": 6,
     "metadata": {},
     "output_type": "execute_result"
    }
   ],
   "source": [
    "# створити dataFrame з ітеруємого об'єкта\n",
    "name = [\"Вася\", \"Петя\", \"Микола\"]\n",
    "rik = [2001, 2000, 2003]\n",
    "name_rik = list(zip(name, rik))\n",
    "print(name_rik)\n",
    "df = pd.DataFrame(name_rik, columns=[\"Ім'я\", \"Рік народження\"])\n",
    "df"
   ]
  },
  {
   "cell_type": "code",
   "execution_count": 7,
   "id": "cleared-possible",
   "metadata": {
    "hidden": true
   },
   "outputs": [
    {
     "data": {
      "text/plain": [
       "\"('Вася', 2001)\""
      ]
     },
     "execution_count": 7,
     "metadata": {},
     "output_type": "execute_result"
    }
   ],
   "source": [
    "str(name_rik[0])"
   ]
  },
  {
   "cell_type": "code",
   "execution_count": 8,
   "id": "amazing-million",
   "metadata": {
    "hidden": true,
    "scrolled": true
   },
   "outputs": [
    {
     "name": "stdout",
     "output_type": "stream",
     "text": [
      "‚ бп, 2001\\nЏҐвп, 2000,\\nЊЁЄ®« ,2003\\n \n"
     ]
    },
    {
     "ename": "UnicodeDecodeError",
     "evalue": "'utf-8' codec can't decode byte 0x82 in position 0: invalid start byte",
     "output_type": "error",
     "traceback": [
      "\u001b[1;31m---------------------------------------------------------------------------\u001b[0m",
      "\u001b[1;31mUnicodeDecodeError\u001b[0m                        Traceback (most recent call last)",
      "Input \u001b[1;32mIn [8]\u001b[0m, in \u001b[0;36m<cell line: 5>\u001b[1;34m()\u001b[0m\n\u001b[0;32m      3\u001b[0m get_ipython()\u001b[38;5;241m.\u001b[39msystem(\u001b[38;5;124m'\u001b[39m\u001b[38;5;124mtype file.csv\u001b[39m\u001b[38;5;124m'\u001b[39m)\n\u001b[0;32m      4\u001b[0m \u001b[38;5;66;03m# створити DataFrame з csv-файлу\u001b[39;00m\n\u001b[1;32m----> 5\u001b[0m df \u001b[38;5;241m=\u001b[39m \u001b[43mpd\u001b[49m\u001b[38;5;241;43m.\u001b[39;49m\u001b[43mread_csv\u001b[49m\u001b[43m(\u001b[49m\u001b[38;5;124;43m\"\u001b[39;49m\u001b[38;5;124;43mfile.csv\u001b[39;49m\u001b[38;5;124;43m\"\u001b[39;49m\u001b[43m,\u001b[49m\u001b[43m \u001b[49m\u001b[43mnames\u001b[49m\u001b[38;5;241;43m=\u001b[39;49m\u001b[43m[\u001b[49m\u001b[38;5;124;43m\"\u001b[39;49m\u001b[38;5;124;43mІм\u001b[39;49m\u001b[38;5;124;43m'\u001b[39;49m\u001b[38;5;124;43mя\u001b[39;49m\u001b[38;5;124;43m\"\u001b[39;49m\u001b[43m,\u001b[49m\u001b[43m \u001b[49m\u001b[38;5;124;43m\"\u001b[39;49m\u001b[38;5;124;43mРік народження\u001b[39;49m\u001b[38;5;124;43m\"\u001b[39;49m\u001b[43m]\u001b[49m\u001b[43m)\u001b[49m\n",
      "File \u001b[1;32m~\\anaconda3\\lib\\site-packages\\pandas\\util\\_decorators.py:311\u001b[0m, in \u001b[0;36mdeprecate_nonkeyword_arguments.<locals>.decorate.<locals>.wrapper\u001b[1;34m(*args, **kwargs)\u001b[0m\n\u001b[0;32m    305\u001b[0m \u001b[38;5;28;01mif\u001b[39;00m \u001b[38;5;28mlen\u001b[39m(args) \u001b[38;5;241m>\u001b[39m num_allow_args:\n\u001b[0;32m    306\u001b[0m     warnings\u001b[38;5;241m.\u001b[39mwarn(\n\u001b[0;32m    307\u001b[0m         msg\u001b[38;5;241m.\u001b[39mformat(arguments\u001b[38;5;241m=\u001b[39marguments),\n\u001b[0;32m    308\u001b[0m         \u001b[38;5;167;01mFutureWarning\u001b[39;00m,\n\u001b[0;32m    309\u001b[0m         stacklevel\u001b[38;5;241m=\u001b[39mstacklevel,\n\u001b[0;32m    310\u001b[0m     )\n\u001b[1;32m--> 311\u001b[0m \u001b[38;5;28;01mreturn\u001b[39;00m func(\u001b[38;5;241m*\u001b[39margs, \u001b[38;5;241m*\u001b[39m\u001b[38;5;241m*\u001b[39mkwargs)\n",
      "File \u001b[1;32m~\\anaconda3\\lib\\site-packages\\pandas\\io\\parsers\\readers.py:680\u001b[0m, in \u001b[0;36mread_csv\u001b[1;34m(filepath_or_buffer, sep, delimiter, header, names, index_col, usecols, squeeze, prefix, mangle_dupe_cols, dtype, engine, converters, true_values, false_values, skipinitialspace, skiprows, skipfooter, nrows, na_values, keep_default_na, na_filter, verbose, skip_blank_lines, parse_dates, infer_datetime_format, keep_date_col, date_parser, dayfirst, cache_dates, iterator, chunksize, compression, thousands, decimal, lineterminator, quotechar, quoting, doublequote, escapechar, comment, encoding, encoding_errors, dialect, error_bad_lines, warn_bad_lines, on_bad_lines, delim_whitespace, low_memory, memory_map, float_precision, storage_options)\u001b[0m\n\u001b[0;32m    665\u001b[0m kwds_defaults \u001b[38;5;241m=\u001b[39m _refine_defaults_read(\n\u001b[0;32m    666\u001b[0m     dialect,\n\u001b[0;32m    667\u001b[0m     delimiter,\n\u001b[1;32m   (...)\u001b[0m\n\u001b[0;32m    676\u001b[0m     defaults\u001b[38;5;241m=\u001b[39m{\u001b[38;5;124m\"\u001b[39m\u001b[38;5;124mdelimiter\u001b[39m\u001b[38;5;124m\"\u001b[39m: \u001b[38;5;124m\"\u001b[39m\u001b[38;5;124m,\u001b[39m\u001b[38;5;124m\"\u001b[39m},\n\u001b[0;32m    677\u001b[0m )\n\u001b[0;32m    678\u001b[0m kwds\u001b[38;5;241m.\u001b[39mupdate(kwds_defaults)\n\u001b[1;32m--> 680\u001b[0m \u001b[38;5;28;01mreturn\u001b[39;00m \u001b[43m_read\u001b[49m\u001b[43m(\u001b[49m\u001b[43mfilepath_or_buffer\u001b[49m\u001b[43m,\u001b[49m\u001b[43m \u001b[49m\u001b[43mkwds\u001b[49m\u001b[43m)\u001b[49m\n",
      "File \u001b[1;32m~\\anaconda3\\lib\\site-packages\\pandas\\io\\parsers\\readers.py:575\u001b[0m, in \u001b[0;36m_read\u001b[1;34m(filepath_or_buffer, kwds)\u001b[0m\n\u001b[0;32m    572\u001b[0m _validate_names(kwds\u001b[38;5;241m.\u001b[39mget(\u001b[38;5;124m\"\u001b[39m\u001b[38;5;124mnames\u001b[39m\u001b[38;5;124m\"\u001b[39m, \u001b[38;5;28;01mNone\u001b[39;00m))\n\u001b[0;32m    574\u001b[0m \u001b[38;5;66;03m# Create the parser.\u001b[39;00m\n\u001b[1;32m--> 575\u001b[0m parser \u001b[38;5;241m=\u001b[39m TextFileReader(filepath_or_buffer, \u001b[38;5;241m*\u001b[39m\u001b[38;5;241m*\u001b[39mkwds)\n\u001b[0;32m    577\u001b[0m \u001b[38;5;28;01mif\u001b[39;00m chunksize \u001b[38;5;129;01mor\u001b[39;00m iterator:\n\u001b[0;32m    578\u001b[0m     \u001b[38;5;28;01mreturn\u001b[39;00m parser\n",
      "File \u001b[1;32m~\\anaconda3\\lib\\site-packages\\pandas\\io\\parsers\\readers.py:933\u001b[0m, in \u001b[0;36mTextFileReader.__init__\u001b[1;34m(self, f, engine, **kwds)\u001b[0m\n\u001b[0;32m    930\u001b[0m     \u001b[38;5;28mself\u001b[39m\u001b[38;5;241m.\u001b[39moptions[\u001b[38;5;124m\"\u001b[39m\u001b[38;5;124mhas_index_names\u001b[39m\u001b[38;5;124m\"\u001b[39m] \u001b[38;5;241m=\u001b[39m kwds[\u001b[38;5;124m\"\u001b[39m\u001b[38;5;124mhas_index_names\u001b[39m\u001b[38;5;124m\"\u001b[39m]\n\u001b[0;32m    932\u001b[0m \u001b[38;5;28mself\u001b[39m\u001b[38;5;241m.\u001b[39mhandles: IOHandles \u001b[38;5;241m|\u001b[39m \u001b[38;5;28;01mNone\u001b[39;00m \u001b[38;5;241m=\u001b[39m \u001b[38;5;28;01mNone\u001b[39;00m\n\u001b[1;32m--> 933\u001b[0m \u001b[38;5;28mself\u001b[39m\u001b[38;5;241m.\u001b[39m_engine \u001b[38;5;241m=\u001b[39m \u001b[38;5;28;43mself\u001b[39;49m\u001b[38;5;241;43m.\u001b[39;49m\u001b[43m_make_engine\u001b[49m\u001b[43m(\u001b[49m\u001b[43mf\u001b[49m\u001b[43m,\u001b[49m\u001b[43m \u001b[49m\u001b[38;5;28;43mself\u001b[39;49m\u001b[38;5;241;43m.\u001b[39;49m\u001b[43mengine\u001b[49m\u001b[43m)\u001b[49m\n",
      "File \u001b[1;32m~\\anaconda3\\lib\\site-packages\\pandas\\io\\parsers\\readers.py:1235\u001b[0m, in \u001b[0;36mTextFileReader._make_engine\u001b[1;34m(self, f, engine)\u001b[0m\n\u001b[0;32m   1232\u001b[0m     \u001b[38;5;28;01mraise\u001b[39;00m \u001b[38;5;167;01mValueError\u001b[39;00m(msg)\n\u001b[0;32m   1234\u001b[0m \u001b[38;5;28;01mtry\u001b[39;00m:\n\u001b[1;32m-> 1235\u001b[0m     \u001b[38;5;28;01mreturn\u001b[39;00m mapping[engine](f, \u001b[38;5;241m*\u001b[39m\u001b[38;5;241m*\u001b[39m\u001b[38;5;28mself\u001b[39m\u001b[38;5;241m.\u001b[39moptions)\n\u001b[0;32m   1236\u001b[0m \u001b[38;5;28;01mexcept\u001b[39;00m \u001b[38;5;167;01mException\u001b[39;00m:\n\u001b[0;32m   1237\u001b[0m     \u001b[38;5;28;01mif\u001b[39;00m \u001b[38;5;28mself\u001b[39m\u001b[38;5;241m.\u001b[39mhandles \u001b[38;5;129;01mis\u001b[39;00m \u001b[38;5;129;01mnot\u001b[39;00m \u001b[38;5;28;01mNone\u001b[39;00m:\n",
      "File \u001b[1;32m~\\anaconda3\\lib\\site-packages\\pandas\\io\\parsers\\c_parser_wrapper.py:75\u001b[0m, in \u001b[0;36mCParserWrapper.__init__\u001b[1;34m(self, src, **kwds)\u001b[0m\n\u001b[0;32m     72\u001b[0m     kwds\u001b[38;5;241m.\u001b[39mpop(key, \u001b[38;5;28;01mNone\u001b[39;00m)\n\u001b[0;32m     74\u001b[0m kwds[\u001b[38;5;124m\"\u001b[39m\u001b[38;5;124mdtype\u001b[39m\u001b[38;5;124m\"\u001b[39m] \u001b[38;5;241m=\u001b[39m ensure_dtype_objs(kwds\u001b[38;5;241m.\u001b[39mget(\u001b[38;5;124m\"\u001b[39m\u001b[38;5;124mdtype\u001b[39m\u001b[38;5;124m\"\u001b[39m, \u001b[38;5;28;01mNone\u001b[39;00m))\n\u001b[1;32m---> 75\u001b[0m \u001b[38;5;28mself\u001b[39m\u001b[38;5;241m.\u001b[39m_reader \u001b[38;5;241m=\u001b[39m parsers\u001b[38;5;241m.\u001b[39mTextReader(src, \u001b[38;5;241m*\u001b[39m\u001b[38;5;241m*\u001b[39mkwds)\n\u001b[0;32m     77\u001b[0m \u001b[38;5;28mself\u001b[39m\u001b[38;5;241m.\u001b[39munnamed_cols \u001b[38;5;241m=\u001b[39m \u001b[38;5;28mself\u001b[39m\u001b[38;5;241m.\u001b[39m_reader\u001b[38;5;241m.\u001b[39munnamed_cols\n\u001b[0;32m     79\u001b[0m \u001b[38;5;66;03m# error: Cannot determine type of 'names'\u001b[39;00m\n",
      "File \u001b[1;32m~\\anaconda3\\lib\\site-packages\\pandas\\_libs\\parsers.pyx:544\u001b[0m, in \u001b[0;36mpandas._libs.parsers.TextReader.__cinit__\u001b[1;34m()\u001b[0m\n",
      "File \u001b[1;32m~\\anaconda3\\lib\\site-packages\\pandas\\_libs\\parsers.pyx:734\u001b[0m, in \u001b[0;36mpandas._libs.parsers.TextReader._get_header\u001b[1;34m()\u001b[0m\n",
      "File \u001b[1;32m~\\anaconda3\\lib\\site-packages\\pandas\\_libs\\parsers.pyx:847\u001b[0m, in \u001b[0;36mpandas._libs.parsers.TextReader._tokenize_rows\u001b[1;34m()\u001b[0m\n",
      "File \u001b[1;32m~\\anaconda3\\lib\\site-packages\\pandas\\_libs\\parsers.pyx:1952\u001b[0m, in \u001b[0;36mpandas._libs.parsers.raise_parser_error\u001b[1;34m()\u001b[0m\n",
      "\u001b[1;31mUnicodeDecodeError\u001b[0m: 'utf-8' codec can't decode byte 0x82 in position 0: invalid start byte"
     ]
    }
   ],
   "source": [
    "#!echo \"Вася, 2001\";\"Петя, 2000\";\"Микола,2003\" > file.csv\n",
    "!echo Вася, 2001\\nПетя, 2000,\\nМикола,2003\\n > file.csv\n",
    "!type file.csv\n",
    "# створити DataFrame з csv-файлу\n",
    "df = pd.read_csv(\"file.csv\", names=[\"Ім'я\", \"Рік народження\"])"
   ]
  },
  {
   "cell_type": "markdown",
   "id": "periodic-curve",
   "metadata": {
    "heading_collapsed": true,
    "hidden": true
   },
   "source": [
    "### ЗАВДАННЯ"
   ]
  },
  {
   "cell_type": "code",
   "execution_count": null,
   "id": "2fe9bfa1",
   "metadata": {
    "hidden": true
   },
   "outputs": [],
   "source": [
    "# ЗАВДАННЯ 1.1: створити датафрейм з списку 10-ти простих чисел\n",
    "df1_1 = np.random.randint(0, 10, (10), dtype=\"int16\")\n",
    "pd.DataFrame(df1_1, columns=[\"\"]).set_index(\"\")\n"
   ]
  },
  {
   "cell_type": "code",
   "execution_count": null,
   "id": "ignored-richards",
   "metadata": {
    "hidden": true
   },
   "outputs": [],
   "source": [
    "# ЗАВДАННЯ 1.2: створити датафрейм з матриці 5х6 чисел з плаваючою точкою\n",
    "df1_2 = np.random.random((5,6))\n",
    "print(type(df1_2))\n",
    "pd.DataFrame(df1_2)"
   ]
  },
  {
   "cell_type": "markdown",
   "id": "pharmaceutical-slovakia",
   "metadata": {
    "hidden": true
   },
   "source": [
    "ЗАВДАННЯ 1.3: створити  DataFrame наступного вигляду:\n",
    "\n",
    "|ім'я | прізвище| рік народження | телефон\n",
    "|:-----|:------|:-----:|:-------:\n",
    "|Петро| Петров| 2000| 222-222-2222\n",
    "|Іван| Іванов| 2002| 333-333-3333\n",
    "|Степан| Степанов| 2001| 444-444-4444"
   ]
  },
  {
   "cell_type": "code",
   "execution_count": null,
   "id": "patent-chair",
   "metadata": {
    "hidden": true
   },
   "outputs": [],
   "source": [
    "name = [\"Петро\", \"Іван\", \"Степан\"]\n",
    "surname = [\"Петров\", \"Іванов\", \"Степвнов\"]\n",
    "rik = [2000, 2002, 2001]\n",
    "phone = [\"222-222-2222\", \"333-333-3333\", \"444-444-4444\"]\n",
    "info = list(zip(name, surname, rik, phone))\n",
    "print(info)\n",
    "df1_3 = pd.DataFrame(info, columns=[\"ім'я\", \"прізвище\", \"рік народження\", \"телефон\"])\n",
    "df1_3"
   ]
  },
  {
   "cell_type": "code",
   "execution_count": null,
   "id": "sixth-engine",
   "metadata": {
    "hidden": true
   },
   "outputs": [],
   "source": [
    "# ЗАВДАННЯ 1.4: створити датафрейм з 20 перших рядків excel-файлу, \n",
    "# який розташовано за адресою: \n",
    "# https://file-examples-com.github.io/uploads/2017/02/file_example_XLS_100.xls\n",
    "df1_4 = pd.read_excel(\"https://file-examples-com.github.io/uploads/2017/02/file_example_XLS_100.xls\", nrows=20)\n",
    "df1_4 "
   ]
  },
  {
   "cell_type": "markdown",
   "id": "european-kernel",
   "metadata": {
    "heading_collapsed": true
   },
   "source": [
    "## 2. Інспектування DataFrame\n",
    "\n",
    "__Інспектування__ - це процедури вивчення внутрішньої структури даних та вмісту датафрейма"
   ]
  },
  {
   "cell_type": "markdown",
   "id": "a2c138e5",
   "metadata": {
    "heading_collapsed": true,
    "hidden": true,
    "tags": []
   },
   "source": [
    "### ПРИКЛАДИ"
   ]
  },
  {
   "cell_type": "code",
   "execution_count": null,
   "id": "severe-mississippi",
   "metadata": {
    "code_folding": [],
    "hidden": true
   },
   "outputs": [],
   "source": [
    "# завантаження датасету `titanic` (https://ansmirnov.ru/kaggle-titanic-dataset/)\n",
    "url = \"https://raw.githubusercontent.com/datasciencedojo/datasets/master/titanic.csv\"\n",
    "titanic = pd.read_csv(url)"
   ]
  },
  {
   "cell_type": "code",
   "execution_count": null,
   "id": "dimensional-ordinance",
   "metadata": {
    "hidden": true,
    "scrolled": true
   },
   "outputs": [],
   "source": [
    "# отримати загальну інформацію про датасет\n",
    "titanic.info()"
   ]
  },
  {
   "cell_type": "code",
   "execution_count": null,
   "id": "checked-score",
   "metadata": {
    "hidden": true
   },
   "outputs": [],
   "source": [
    "# вивести перші 3 рядкі\n",
    "titanic.head(3)"
   ]
  },
  {
   "cell_type": "code",
   "execution_count": null,
   "id": "otherwise-jefferson",
   "metadata": {
    "hidden": true
   },
   "outputs": [],
   "source": [
    "# вивести останні 2 рядки\n",
    "titanic.tail(2)"
   ]
  },
  {
   "cell_type": "code",
   "execution_count": null,
   "id": "corporate-frame",
   "metadata": {
    "hidden": true
   },
   "outputs": [],
   "source": [
    "# отримати імена колонок\n",
    "col_names = titanic.columns\n",
    "print(col_names)"
   ]
  },
  {
   "cell_type": "code",
   "execution_count": null,
   "id": "innovative-refrigerator",
   "metadata": {
    "hidden": true
   },
   "outputs": [],
   "source": [
    "# вивести загальну статистику датасету - числові поля\n",
    "titanic.describe()"
   ]
  },
  {
   "cell_type": "code",
   "execution_count": null,
   "id": "thrown-mixture",
   "metadata": {
    "hidden": true
   },
   "outputs": [],
   "source": [
    "# вивести статитсику текстового поля `Sex` \n",
    "titanic['Sex'].describe()"
   ]
  },
  {
   "cell_type": "code",
   "execution_count": null,
   "id": "exempt-restoration",
   "metadata": {
    "hidden": true
   },
   "outputs": [],
   "source": [
    "# перевірити тип колонки датасету\n",
    "type(titanic['Age'])"
   ]
  },
  {
   "cell_type": "code",
   "execution_count": null,
   "id": "catholic-number",
   "metadata": {
    "hidden": true
   },
   "outputs": [],
   "source": [
    "# вивести перші 10 рядків деяких колонок\n",
    "cols = [\"Name\", \"Age\", \"Sex\"]\n",
    "titanic[cols].head(10)"
   ]
  },
  {
   "cell_type": "code",
   "execution_count": null,
   "id": "automotive-hammer",
   "metadata": {
    "hidden": true
   },
   "outputs": [],
   "source": [
    "# вивести рядки з 100 по 110\n",
    "titanic[100:110]"
   ]
  },
  {
   "cell_type": "code",
   "execution_count": null,
   "id": "professional-bernard",
   "metadata": {
    "hidden": true
   },
   "outputs": [],
   "source": [
    "# вивести тільки чоловіків\n",
    "cond = titanic[\"Sex\"] == \"male\"\n",
    "titanic[cond]"
   ]
  },
  {
   "cell_type": "code",
   "execution_count": null,
   "id": "recorded-animal",
   "metadata": {
    "hidden": true
   },
   "outputs": [],
   "source": [
    "# вивести рядки в яких пропущено значення поля `Age`\n",
    "cond = titanic['Age'].isna()\n",
    "titanic[cond].head(3)"
   ]
  },
  {
   "cell_type": "code",
   "execution_count": null,
   "id": "bbddbc6a",
   "metadata": {
    "hidden": true
   },
   "outputs": [],
   "source": [
    "# вивести рядки з пасажирами вік яких з 30 до 50 років\n",
    "cond = titanic['Age'].between(30, 50)\n",
    "titanic[cond]"
   ]
  },
  {
   "cell_type": "markdown",
   "id": "be7b0e62",
   "metadata": {
    "heading_collapsed": true,
    "hidden": true
   },
   "source": [
    "### ЗАВДАННЯ"
   ]
  },
  {
   "cell_type": "code",
   "execution_count": null,
   "id": "d369c6d2",
   "metadata": {
    "hidden": true
   },
   "outputs": [],
   "source": [
    "# ЗАВДАННЯ 2.1: вивести характеристики датасету `titanic`\n",
    "titanic.describe()"
   ]
  },
  {
   "cell_type": "code",
   "execution_count": null,
   "id": "530c3274",
   "metadata": {
    "hidden": true
   },
   "outputs": [],
   "source": [
    "# ЗАВДАННЯ 2.2: вивести статистичні параметри полів `Age` та `Fare` датасету `titanic`\n",
    "cols = ['Age', 'Fare']\n",
    "titanic[cols].describe()"
   ]
  },
  {
   "cell_type": "code",
   "execution_count": null,
   "id": "53e70e13",
   "metadata": {
    "hidden": true
   },
   "outputs": [],
   "source": [
    "# ЗАВДАННЯ 2.3: пірахувати кількість записів в яких заповнені усі показчики\n",
    "pd.options.display.max_rows = 1000\n",
    "print(len(titanic.dropna()), \" - рядків без пропущених даних\")\n",
    "titanic.dropna()"
   ]
  },
  {
   "cell_type": "code",
   "execution_count": null,
   "id": "d0eb61fe",
   "metadata": {
    "hidden": true
   },
   "outputs": [],
   "source": [
    "# ЗАВДАННЯ 2.4: пірахувати кількість виживших (survived=1) пасажирів жиночої статі (Sex=`female`)\n",
    "print(len(titanic.loc[(titanic['Survived'] == 1) & (titanic['Sex'] == 'female')]), \"- Жінки, що вижили\")\n",
    "titanic.loc[(titanic['Survived'] == 1) & (titanic['Sex'] == 'female')]"
   ]
  },
  {
   "cell_type": "markdown",
   "id": "63d7216b",
   "metadata": {
    "heading_collapsed": true
   },
   "source": [
    "## 3. Перетворення датафреймів\n",
    "\n",
    "__Перетворення__ - це сукупність операцій та методів для зміни структури та вмісту датафрейму та окремих його елементів"
   ]
  },
  {
   "cell_type": "markdown",
   "id": "b3e6674c",
   "metadata": {
    "heading_collapsed": true,
    "hidden": true
   },
   "source": [
    "### ПРИКЛАДИ"
   ]
  },
  {
   "cell_type": "code",
   "execution_count": null,
   "id": "408c6855",
   "metadata": {
    "code_folding": [],
    "hidden": true
   },
   "outputs": [],
   "source": [
    "d = {\n",
    "    \"ім'я\"    : [\"Петя\", \"Вася\", \"Галя\"],\n",
    "    \"вік\"     : [22, 200 , 21],\n",
    "    \"рейтинг\" : [\"10\", \"3\", \"2\"]\n",
    "}\n",
    "\n",
    "df = pd.DataFrame(d)\n",
    "df"
   ]
  },
  {
   "cell_type": "code",
   "execution_count": null,
   "id": "a2e95984",
   "metadata": {
    "hidden": true
   },
   "outputs": [],
   "source": [
    "# типи колонок та елементів в колонці\n",
    "print(df[\"рейтинг\"].dtype)\n",
    "print(type(df['рейтинг']))"
   ]
  },
  {
   "cell_type": "code",
   "execution_count": null,
   "id": "60d606fc",
   "metadata": {
    "hidden": true
   },
   "outputs": [],
   "source": [
    "# Перетворити тип колонки (показчика) 'рейтинг' в ціле числове\n",
    "df['рейтинг'] = df['рейтинг'].astype(\"int8\")\n",
    "print(df[\"рейтинг\"].dtype)"
   ]
  },
  {
   "cell_type": "code",
   "execution_count": null,
   "id": "ee40f2a3",
   "metadata": {
    "hidden": true
   },
   "outputs": [],
   "source": [
    "# додати колонку \"адреса\"\n",
    "df[\"адреса\"] = [\"Київ\", \"Бровари\", \"Фастів\"]\n",
    "df"
   ]
  },
  {
   "cell_type": "code",
   "execution_count": null,
   "id": "5816731f",
   "metadata": {
    "hidden": true
   },
   "outputs": [],
   "source": [
    "#  збільшити значення \"рейтинг\" на 3\n",
    "df['рейтинг'] = df['рейтинг'] + 3\n",
    "df"
   ]
  },
  {
   "cell_type": "code",
   "execution_count": null,
   "id": "79085f02",
   "metadata": {
    "hidden": true
   },
   "outputs": [],
   "source": [
    "df"
   ]
  },
  {
   "cell_type": "code",
   "execution_count": null,
   "id": "8cf3fc5e",
   "metadata": {
    "hidden": true
   },
   "outputs": [],
   "source": [
    "# виправити значення параметру 'вік' для імені 'Вася'\n",
    "df.loc[1, \"вік\"] = 20\n",
    "df"
   ]
  },
  {
   "cell_type": "code",
   "execution_count": null,
   "id": "872910d8",
   "metadata": {
    "hidden": true
   },
   "outputs": [],
   "source": [
    "# видалити колонку `вік'\n",
    "df.drop(columns='вік', inplace=True)\n",
    "df"
   ]
  },
  {
   "cell_type": "code",
   "execution_count": null,
   "id": "26687e7f",
   "metadata": {
    "hidden": true
   },
   "outputs": [],
   "source": [
    "# вивести 5 перших рядків датафрейму\n",
    "titanic.head(5)"
   ]
  },
  {
   "cell_type": "code",
   "execution_count": null,
   "id": "919c6dc5",
   "metadata": {
    "hidden": true
   },
   "outputs": [],
   "source": [
    "# вивести 3 випадкових рядки датафрейму\n",
    "titanic.sample(3)"
   ]
  },
  {
   "cell_type": "code",
   "execution_count": null,
   "id": "0adbd146",
   "metadata": {
    "hidden": true
   },
   "outputs": [],
   "source": [
    "# відсортувати dataframe `titanic` за віком пасажиров\n",
    "titanic.sort_values('Age')"
   ]
  },
  {
   "cell_type": "code",
   "execution_count": null,
   "id": "e27563a8",
   "metadata": {
    "hidden": true
   },
   "outputs": [],
   "source": [
    "# перейменувати значення в `Embarked` стовпчику:\n",
    "# С - Cherbourg\n",
    "# Q - Queenstown\n",
    "# S - Southampton\n",
    "titanic['Embarked'].replace({\"C\": \"Cherbourg\", \"Q\": \"Queenstown\", \"S\": \"Southampton\"},\n",
    "                           inplace=True)\n",
    "titanic"
   ]
  },
  {
   "cell_type": "code",
   "execution_count": null,
   "id": "b4f6b334",
   "metadata": {
    "hidden": true
   },
   "outputs": [],
   "source": [
    "# підрахувати кількість пасажирів 1-го класу (Pclass=1)\n",
    "cond = titanic['Pclass'] == 1\n",
    "kol_pass = titanic[cond]['PassengerId'].count()\n",
    "kol_pass"
   ]
  },
  {
   "cell_type": "code",
   "execution_count": null,
   "id": "565f0062",
   "metadata": {
    "hidden": true
   },
   "outputs": [],
   "source": [
    "# замінити відсутні номери кают на ''\n",
    "titanic.fillna({\"Cabin\": \"***\"}, inplace=True)\n",
    "titanic.head(3)"
   ]
  },
  {
   "cell_type": "code",
   "execution_count": null,
   "id": "e17482a6",
   "metadata": {
    "hidden": true
   },
   "outputs": [],
   "source": [
    "# видалити рядки в яких є відсутні значення \n",
    "titanic.dropna(axis=0, how='any', inplace=True)\n",
    "titanic.shape"
   ]
  },
  {
   "cell_type": "markdown",
   "id": "f9c8a288",
   "metadata": {
    "heading_collapsed": true,
    "hidden": true
   },
   "source": [
    "### ЗАВДАННЯ"
   ]
  },
  {
   "cell_type": "code",
   "execution_count": null,
   "id": "346419c3",
   "metadata": {
    "hidden": true
   },
   "outputs": [],
   "source": [
    "# ЗАВДАННЯ 3.1: створити датафрейм з словника d\n",
    "d = {\n",
    "    \"ім'я\"    : [\"Петя\", \"Вася\", \"Галя\"],\n",
    "    \"вік\"     : [22, 200 , 21],\n",
    "    \"рейтинг\" : [\"10\", \"3\", \"2\"]\n",
    "}\n",
    "df = pd.DataFrame(d)\n",
    "df"
   ]
  },
  {
   "cell_type": "code",
   "execution_count": null,
   "id": "968d2cdc",
   "metadata": {
    "hidden": true
   },
   "outputs": [],
   "source": [
    "# ЗАВДАННЯ 3.2: додати до `df` стовбчик з показчиком \n",
    "# `рік завершення школи` = [2018, 2020, 200]\n",
    "df['рік завершення школи'] = [2018, 2020, 200]\n",
    "df"
   ]
  },
  {
   "cell_type": "code",
   "execution_count": null,
   "id": "5651ea12",
   "metadata": {
    "hidden": true
   },
   "outputs": [],
   "source": [
    "# ЗАВДАННЯ 3.3: виправити 'рік завершення школи' з 200 на 2020\n",
    "df.loc[1, \"вік\"] = 2020\n",
    "df"
   ]
  },
  {
   "cell_type": "code",
   "execution_count": null,
   "id": "c1191231",
   "metadata": {
    "hidden": true
   },
   "outputs": [],
   "source": [
    "# завантаження датасету `titanic` (https://ansmirnov.ru/kaggle-titanic-dataset/)\n",
    "url = \"https://raw.githubusercontent.com/datasciencedojo/datasets/master/titanic.csv\"\n",
    "titanic = pd.read_csv(url)"
   ]
  },
  {
   "cell_type": "code",
   "execution_count": null,
   "id": "a206f3c1",
   "metadata": {
    "hidden": true
   },
   "outputs": [],
   "source": [
    "# ЗАВДАННЯ 3.4: вивести з датасету `titanic` останні 10 записів \n",
    "titanic.tail(10)"
   ]
  },
  {
   "cell_type": "code",
   "execution_count": null,
   "id": "974e4300",
   "metadata": {
    "hidden": true
   },
   "outputs": [],
   "source": [
    "# ЗАВДАННЯ 3.5: вибрати з датасету `titanic` рядки з пасажирами чоловічої статі віком \n",
    "# від 20 до 30 років, які подорожували 2 класом\n",
    "print(len(titanic.loc[(titanic['Age'].between(20, 30)) & (titanic['Sex'] == 'male') & (titanic['Pclass']== 2)]), \"- Men aged 20 to 30 who traveled in 2nd class\")\n",
    "titanic.loc[(titanic['Age'].between(20, 30)) & (titanic['Sex'] == 'male') & (titanic['Pclass'] == 2)]"
   ]
  },
  {
   "cell_type": "code",
   "execution_count": null,
   "id": "44126572",
   "metadata": {
    "hidden": true
   },
   "outputs": [],
   "source": [
    "# ЗАВДАННЯ 3.6: видалити з датасету `titanic` рядки з пасажирами у яких відсутня\n",
    "# вартість (fare) квітка\n",
    "print(\"Відсутнії полів вартості (fare) квитка в дата сеті немає.\")\n",
    "titanic.isnull().sum()"
   ]
  },
  {
   "cell_type": "code",
   "execution_count": null,
   "id": "b1614e3e",
   "metadata": {
    "hidden": true
   },
   "outputs": [],
   "source": [
    "# ЗАВДАННЯ 3.7: підрахувати середню вартість квитка у каютах 1-го класу\n",
    "#titanic.loc[(titanic['Age'].between(20, 30)) & (titanic['Sex'] == 'male') & (titanic['Pclass'] == 2)]\n",
    "avg_price = titanic.loc[titanic['Pclass'] == 1]\n",
    "print(\" Середня вартість квитка у каютах 1-го клас становить:\\n\", \"%.2f\" % avg_price['Fare'].mean())"
   ]
  },
  {
   "cell_type": "markdown",
   "id": "9ef297e7",
   "metadata": {
    "heading_collapsed": true
   },
   "source": [
    "## 4. Агрегація датафреймів\n",
    "\n",
    "__Агрегація__ - це функції отримання агрегованих даних шляхом групування об'єктів датафрейма "
   ]
  },
  {
   "cell_type": "markdown",
   "id": "cb9bf24b",
   "metadata": {
    "heading_collapsed": true,
    "hidden": true
   },
   "source": [
    "### ПРИКЛАДИ"
   ]
  },
  {
   "cell_type": "code",
   "execution_count": null,
   "id": "be63d27c",
   "metadata": {
    "hidden": true
   },
   "outputs": [],
   "source": [
    "titanic.head(3)"
   ]
  },
  {
   "cell_type": "code",
   "execution_count": null,
   "id": "6d24da8f",
   "metadata": {
    "hidden": true
   },
   "outputs": [],
   "source": [
    "# підрахувати середній вік пасажирів по класам кают\n",
    "group_by_class = titanic.groupby([\"Pclass\"])\n",
    "avg_age = group_by_class[\"Age\"].mean()\n",
    "print(avg_age)"
   ]
  },
  {
   "cell_type": "code",
   "execution_count": null,
   "id": "5ab45447",
   "metadata": {
    "hidden": true,
    "scrolled": true
   },
   "outputs": [],
   "source": [
    "# підрахувати кількість чоловіків та жінок по класам кают\n",
    "man_woman_count = titanic.groupby([\"Pclass\", \"Sex\"])[\"Sex\"].count()\n",
    "man_woman_count"
   ]
  },
  {
   "cell_type": "code",
   "execution_count": null,
   "id": "519fd08a",
   "metadata": {
    "hidden": true,
    "scrolled": true
   },
   "outputs": [],
   "source": [
    "# створити таблицю в якій підраховано середню вартість білетів (Fare) в залежності\n",
    "# від місця посадки (Embarked) по класам кают\n",
    "tickets_cost = titanic.pivot_table(values=\"Fare\", index=\"Pclass\", columns=\"Embarked\",\n",
    "                   aggfunc=np.mean)\n",
    "tickets_cost"
   ]
  },
  {
   "cell_type": "markdown",
   "id": "1953afb7",
   "metadata": {
    "heading_collapsed": true,
    "hidden": true
   },
   "source": [
    "### ЗАВДАННЯ"
   ]
  },
  {
   "cell_type": "code",
   "execution_count": null,
   "id": "a0161713",
   "metadata": {
    "hidden": true
   },
   "outputs": [],
   "source": [
    "# ЗАВДАННЯ 4.1: отримати відомості про максимальний вік жінок та чоловіків\n",
    "max_age_female = titanic.loc[titanic['Sex'] == 'female']['Age'].max()\n",
    "max_age_male = titanic.loc[titanic['Sex'] == 'male']['Age'].max()\n",
    "#print(max_age_female.max())\n",
    "print(\"Максимальний вік:\\nЖіночий:\\t\", \"%.0f\" % max_age_female, \"\\nЧоловічий:\\t\", \"%.0f\" % max_age_male)"
   ]
  },
  {
   "cell_type": "markdown",
   "id": "f7551432",
   "metadata": {
    "hidden": true
   },
   "source": [
    "___ЗАВДАННЯ 4.2___\n",
    "\n",
    "на основі даних з `titanic` побудувати таблицю наступного вигляду:\n",
    "\n",
    "Pclass  |Male  | Female\n",
    "--------|------|-------\n",
    "1  | ... | ...\n",
    "2  | ... | ...\n",
    "3  | ... | ...\n",
    "\n",
    "де замість `...` повинно бути кількість виживших (Survived) чоловіків та жінок відповідно"
   ]
  },
  {
   "cell_type": "code",
   "execution_count": null,
   "id": "5dea747e",
   "metadata": {
    "hidden": true
   },
   "outputs": [],
   "source": [
    "surv_table = titanic.loc[titanic['Survived'] == 1]\n",
    "print(\"Загальна кількість людей, що вижили: \",surv_table['Survived'].count(), \"\\nТаблиця чоловікв і жінок, що вижили:\")\n",
    "surv_table.pivot_table(values=\"Survived\", index=\"Pclass\", columns=\"Sex\", aggfunc=np.size)"
   ]
  }
 ],
 "metadata": {
  "kernelspec": {
   "display_name": "Python 3 (ipykernel)",
   "language": "python",
   "name": "python3"
  },
  "language_info": {
   "codemirror_mode": {
    "name": "ipython",
    "version": 3
   },
   "file_extension": ".py",
   "mimetype": "text/x-python",
   "name": "python",
   "nbconvert_exporter": "python",
   "pygments_lexer": "ipython3",
   "version": "3.9.12"
  },
  "toc-autonumbering": true,
  "toc-showcode": true,
  "toc-showmarkdowntxt": false,
  "toc-showtags": false,
  "varInspector": {
   "cols": {
    "lenName": 16,
    "lenType": 16,
    "lenVar": 40
   },
   "kernels_config": {
    "python": {
     "delete_cmd_postfix": "",
     "delete_cmd_prefix": "del ",
     "library": "var_list.py",
     "varRefreshCmd": "print(var_dic_list())"
    },
    "r": {
     "delete_cmd_postfix": ") ",
     "delete_cmd_prefix": "rm(",
     "library": "var_list.r",
     "varRefreshCmd": "cat(var_dic_list()) "
    }
   },
   "types_to_exclude": [
    "module",
    "function",
    "builtin_function_or_method",
    "instance",
    "_Feature"
   ],
   "window_display": false
  }
 },
 "nbformat": 4,
 "nbformat_minor": 5
}
